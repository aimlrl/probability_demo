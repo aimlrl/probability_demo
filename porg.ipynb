{
 "cells": [
  {
   "cell_type": "code",
   "execution_count": 4,
   "metadata": {},
   "outputs": [
    {
     "ename": "ModuleNotFoundError",
     "evalue": "No module named 'matplotlib'",
     "output_type": "error",
     "traceback": [
      "\u001b[0;31m---------------------------------------------------------------------------\u001b[0m",
      "\u001b[0;31mModuleNotFoundError\u001b[0m                       Traceback (most recent call last)",
      "Cell \u001b[0;32mIn[4], line 3\u001b[0m\n\u001b[1;32m      1\u001b[0m \u001b[38;5;28;01mimport\u001b[39;00m \u001b[38;5;21;01mnumpy\u001b[39;00m \u001b[38;5;28;01mas\u001b[39;00m \u001b[38;5;21;01mnp\u001b[39;00m\n\u001b[1;32m      2\u001b[0m \u001b[38;5;28;01mimport\u001b[39;00m \u001b[38;5;21;01mpandas\u001b[39;00m \u001b[38;5;28;01mas\u001b[39;00m \u001b[38;5;21;01mpd\u001b[39;00m\n\u001b[0;32m----> 3\u001b[0m \u001b[38;5;28;01mimport\u001b[39;00m \u001b[38;5;21;01mmatplotlib\u001b[39;00m\u001b[38;5;21;01m.\u001b[39;00m\u001b[38;5;21;01mpyplot\u001b[39;00m \u001b[38;5;28;01mas\u001b[39;00m \u001b[38;5;21;01mplt\u001b[39;00m\n",
      "\u001b[0;31mModuleNotFoundError\u001b[0m: No module named 'matplotlib'"
     ]
    }
   ],
   "source": [
    "import numpy as np\n",
    "import pandas as pd\n",
    "import matplotlib.pyplot as plt"
   ]
  },
  {
   "cell_type": "code",
   "execution_count": 2,
   "metadata": {},
   "outputs": [],
   "source": [
    "num_tosses = [10,100,1000,10000,100000,1000000,10000000]"
   ]
  },
  {
   "cell_type": "code",
   "execution_count": 3,
   "metadata": {},
   "outputs": [
    {
     "name": "stdout",
     "output_type": "stream",
     "text": [
      "Relative Frequency of 0 desired outcomes out of 5 tosses is 0.03127149\n",
      "Relative Frequency of 1 desired outcomes out of 5 tosses is 0.1562434\n",
      "Relative Frequency of 2 desired outcomes out of 5 tosses is 0.31249712\n",
      "Relative Frequency of 3 desired outcomes out of 5 tosses is 0.31246907\n",
      "Relative Frequency of 4 desired outcomes out of 5 tosses is 0.1562217\n",
      "Relative Frequency of 5 desired outcomes out of 5 tosses is 0.03129722\n"
     ]
    }
   ],
   "source": [
    "size = 100000000\n",
    "coin_tosses = np.random.binomial(n=5,p=0.5,size=size)\n",
    "num_desired_outcomes = list()\n",
    "probability = list()\n",
    "for n in range(6):\n",
    "    num_desired_outcomes.append(n)\n",
    "    frequency = np.count_nonzero(coin_tosses == n)\n",
    "    probability.append(frequency/size)\n",
    "    print(\"Relative Frequency of {} desired outcomes out of 5 tosses is {}\".format(n,\n",
    "                                                                                          frequency/size))"
   ]
  },
  {
   "cell_type": "code",
   "execution_count": null,
   "metadata": {},
   "outputs": [],
   "source": [
    "plt.bar(num_desired_outcomes,probability)"
   ]
  }
 ],
 "metadata": {
  "kernelspec": {
   "display_name": ".venv",
   "language": "python",
   "name": "python3"
  },
  "language_info": {
   "codemirror_mode": {
    "name": "ipython",
    "version": 3
   },
   "file_extension": ".py",
   "mimetype": "text/x-python",
   "name": "python",
   "nbconvert_exporter": "python",
   "pygments_lexer": "ipython3",
   "version": "3.10.12"
  }
 },
 "nbformat": 4,
 "nbformat_minor": 2
}
